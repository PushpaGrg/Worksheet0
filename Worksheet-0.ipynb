{
  "nbformat": 4,
  "nbformat_minor": 0,
  "metadata": {
    "colab": {
      "provenance": []
    },
    "kernelspec": {
      "name": "python3",
      "display_name": "Python 3"
    },
    "language_info": {
      "name": "python"
    }
  },
  "cells": [
    {
      "cell_type": "code",
      "execution_count": 1,
      "metadata": {
        "colab": {
          "base_uri": "https://localhost:8080/"
        },
        "id": "tZJAgizgFgQy",
        "outputId": "d67250c1-b381-4717-fad7-65260c073b2f"
      },
      "outputs": [
        {
          "output_type": "stream",
          "name": "stdout",
          "text": [
            "Cold temperatures (below 10°C): [8.2, 7.9, 9.0, 8.5, 7.7, 8.4, 9.5, 8.1, 7.6, 8.0, 7.8, 8.7, 9.2, 8.3, 8.9, 7.8]\n",
            "Mild temperatures (10°C to 15°C): [14.1, 13.5, 13.0, 12.9, 13.3, 14.0, 13.4, 14.2, 12.8, 13.7, 13.6, 13.8, 13.9, 12.7, 13.1, 12.5]\n",
            "Comfortable temperatures (15°C to 20°C): [17.4, 18.0, 17.8, 16.5, 17.2, 16.7, 18.3, 17.9, 17.0, 16.8, 17.5, 17.1, 18.1, 16.4, 18.2, 16.6]\n"
          ]
        }
      ],
      "source": [
        "# Task 1- Classify Temperatures\n",
        "# List of temperatures measured at Tribhuwan International Airport\n",
        "temperatures = [8.2, 17.4, 14.1, 7.9, 18.0, 13.5, 9.0, 17.8, 13.0, 8.5,16.5, 12.9, 7.7, 17.2, 13.3, 8.4, 16.7, 14.0, 9.5, 18.3, 13.4, 8.1, 17.9, 14.2, 7.6, 17.0, 12.8, 8.0, 16.8, 13.7, 7.8, 17.5, 13.6, 8.7,17.1, 13.8, 9.2, 18.1, 13.9, 8.3, 16.4, 12.7, 8.9, 18.2, 13.1, 7.8,16.6, 12.5]\n",
        "# Create empty lists for each temperature classification\n",
        "cold = []\n",
        "mild = []\n",
        "comfortable = []\n",
        "\n",
        "# Iterate over the temperatures list and classify them\n",
        "for temp in temperatures:\n",
        "    if temp < 10:\n",
        "        cold.append(temp)\n",
        "    elif 10 <= temp <= 15:\n",
        "        mild.append(temp)\n",
        "    elif 15 < temp <= 20:\n",
        "        comfortable.append(temp)\n",
        "\n",
        "# Print the classified lists\n",
        "print(\"Cold temperatures (below 10°C):\", cold)\n",
        "print(\"Mild temperatures (10°C to 15°C):\", mild)\n",
        "print(\"Comfortable temperatures (15°C to 20°C):\", comfortable)\n"
      ]
    },
    {
      "cell_type": "code",
      "source": [
        "# Task 2- Based on Data\n",
        "# List of temperatures measured at Tribhuwan International Airport\n",
        "temperatures = [8.2, 17.4, 14.1, 7.9, 18.0, 13.5, 9.0, 17.8, 13.0, 8.5, 16.5, 12.9, 7.7, 17.2, 13.3, 8.4, 16.7, 14.0, 9.5, 18.3, 13.4, 8.1, 17.9, 14.2, 7.6, 17.0, 12.8, 8.0, 16.8, 13.7, 7.8, 17.5, 13.6, 8.7,17.1, 13.8, 9.2, 18.1, 13.9, 8.3, 16.4, 12.7, 8.9, 18.2, 13.1, 7.8,16.6, 12.5]\n",
        "\n",
        "# Create empty lists for each temperature classification\n",
        "cold = []\n",
        "mild = []\n",
        "comfortable = []\n",
        "\n",
        "# Iterate over the temperatures list and classify them\n",
        "for temp in temperatures:\n",
        "    if temp < 10:\n",
        "        cold.append(temp)\n",
        "    elif 10 <= temp <= 15:\n",
        "        mild.append(temp)\n",
        "    elif 15 < temp <= 20:\n",
        "        comfortable.append(temp)\n",
        "\n",
        "# counting the number of items in each list\n",
        "cold_count = len(cold)\n",
        "mild_count = len(mild)\n",
        "comfortable_count = len(comfortable)\n",
        "\n",
        "# Print the result\n",
        "print(\"It was cold for :\", cold_count,\"times.\")\n",
        "print(\"It was mild for :\", mild_count,\"times.\")\n",
        "print(\"It was comfortable for :\", comfortable_count,\"times.\")\n"
      ],
      "metadata": {
        "colab": {
          "base_uri": "https://localhost:8080/"
        },
        "id": "Uhqdc3l9GL3V",
        "outputId": "d9498dec-e1f1-4685-b552-76f985cad63f"
      },
      "execution_count": 2,
      "outputs": [
        {
          "output_type": "stream",
          "name": "stdout",
          "text": [
            "It was cold for : 16 times.\n",
            "It was mild for : 16 times.\n",
            "It was comfortable for : 16 times.\n"
          ]
        }
      ]
    },
    {
      "cell_type": "code",
      "source": [
        "# Task 3- Convert Temperatures from Celsius into Fahrenheit\n",
        "# List of temperatures measured at Tribhuwan International Airport in celsius\n",
        "temperatures = [8.2, 17.4, 14.1, 7.9, 18.0, 13.5, 9.0, 17.8, 13.0, 8.5, 16.5, 12.9, 7.7, 17.2, 13.3, 8.4, 16.7, 14.0, 9.5, 18.3, 13.4, 8.1, 17.9, 14.2, 7.6, 17.0, 12.8, 8.0, 16.8, 13.7, 7.8, 17.5, 13.6, 8.7, 17.1, 13.8, 9.2, 18.1, 13.9, 8.3, 16.4, 12.7, 8.9, 18.2, 13.1, 7.8, 16.6, 12.5]\n",
        "\n",
        "# Create a new list to store Fahrenheit values\n",
        "temperatures_fahrenheit = []\n",
        "\n",
        "# Iterate over the temperatures list in Celsius and convert each to Fahrenheit\n",
        "for temp_celsius in temperatures:\n",
        "    temp_fahrenheit = (temp_celsius * 9/5) + 32  # use formula to convert temp\n",
        "    temperatures_fahrenheit.append(temp_fahrenheit)  # store results in the new list\n",
        "\n",
        "# Print the list of temperatures in Fahrenheit\n",
        "print(\"Temperatures in Fahrenheit:\", temperatures_fahrenheit)\n"
      ],
      "metadata": {
        "colab": {
          "base_uri": "https://localhost:8080/"
        },
        "id": "Gq6DPlyRHU5D",
        "outputId": "e73dea82-9be7-4e42-a5e9-5391ee8daa2f"
      },
      "execution_count": 3,
      "outputs": [
        {
          "output_type": "stream",
          "name": "stdout",
          "text": [
            "Temperatures in Fahrenheit: [46.76, 63.32, 57.379999999999995, 46.22, 64.4, 56.3, 48.2, 64.04, 55.4, 47.3, 61.7, 55.22, 45.86, 62.959999999999994, 55.94, 47.120000000000005, 62.059999999999995, 57.2, 49.1, 64.94, 56.120000000000005, 46.58, 64.22, 57.56, 45.68, 62.6, 55.04, 46.4, 62.24, 56.66, 46.04, 63.5, 56.48, 47.66, 62.78, 56.84, 48.56, 64.58, 57.02, 46.94, 61.519999999999996, 54.86, 48.02, 64.75999999999999, 55.58, 46.04, 61.88, 54.5]\n"
          ]
        }
      ]
    },
    {
      "cell_type": "code",
      "source": [
        "# Task 4- Analyze Temperature Patterns by Time of Day\n",
        "import matplotlib.pyplot as plt\n",
        "\n",
        "# List of temperatures measured at Tribhuwan International Airport in celsius\n",
        "temperatures = [8.2, 17.4, 14.1, 7.9, 18.0, 13.5, 9.0, 17.8, 13.0, 8.5, 16.5, 12.9, 7.7, 17.2, 13.3, 8.4, 16.7, 14.0, 9.5, 18.3, 13.4, 8.1, 17.9, 14.2, 7.6, 17.0, 12.8, 8.0, 16.8, 13.7, 7.8, 17.5, 13.6, 8.7, 17.1, 13.8, 9.2, 18.1, 13.9, 8.3, 16.4, 12.7, 8.9, 18.2, 13.1, 7.8, 16.6, 12.5]\n",
        "\n",
        "# Create empty lists for night, day, and evening temperatures\n",
        "night_temps = []\n",
        "day_temps = []\n",
        "evening_temps = []\n",
        "\n",
        "# Iterate over temperatures list and assign values to each time-of-day list based on their position\n",
        "for i in range(0, len(temperatures), 3):\n",
        "    night_temps.append(temperatures[i])  # 00-08\n",
        "    evening_temps.append(temperatures[i+1])  # 08-16\n",
        "    day_temps.append(temperatures[i+2])  # 16-24\n",
        "\n",
        "# Calculate the average daytime temperature\n",
        "averageDay_temp = sum(day_temps) / len(day_temps)\n",
        "\n",
        "# Print the average daytime temperature\n",
        "print(f\"Average daytime temperature: {averageDay_temp:.2f}°C\")\n",
        "\n",
        "# Plot day vs. temperature using matplotlib\n",
        "days = [f\"Day {i+1}\" for i in range(len(day_temps))]  # Day labels for the x-axis\n",
        "\n",
        "plt.figure(figsize=(10, 5))\n",
        "plt.plot(days, day_temps, marker='o', linestyle='-', color='y', label='Daytime Temperature')\n",
        "plt.xlabel(\"Days\")\n",
        "plt.ylabel(\"Temperature (°C)\")\n",
        "plt.title(\"Day vs. Temperature\")\n",
        "plt.grid(True)\n",
        "plt.tight_layout()\n",
        "plt.legend()\n",
        "plt.show()\n"
      ],
      "metadata": {
        "colab": {
          "base_uri": "https://localhost:8080/",
          "height": 525
        },
        "id": "MB-dFibxIJCk",
        "outputId": "1eabc835-9d79-451c-e749-da387a50ffaa"
      },
      "execution_count": 7,
      "outputs": [
        {
          "output_type": "stream",
          "name": "stdout",
          "text": [
            "Average daytime temperature: 13.41°C\n"
          ]
        },
        {
          "output_type": "display_data",
          "data": {
            "text/plain": [
              "<Figure size 1000x500 with 1 Axes>"
            ],
            "image/png": "[encoded data removed]"
          },
          "metadata": {}
        }
      ]
    },
    {
      "cell_type": "code",
      "source": [
        "# Task 1 - Sum of Nested Lists\n",
        "def sum_nested_list(nested_list):\n",
        "    \"\"\"\n",
        "    This function takes a nested list which may contain numbers or other nested lists\n",
        "    and recursively computes the sum of all numbers no matter how deeply nested.\n",
        "\n",
        "    Args:\n",
        "    nested_list (list): A list that may contain numbers or other nested lists.\n",
        "\n",
        "    Returns:\n",
        "    int: The total sum of all numbers in the nested list, including those in sublists.\n",
        "    \"\"\"\n",
        "\n",
        "    total = 0  # Initialize total sum to 0\n",
        "\n",
        "    # Loop through each item in the list\n",
        "    for item in nested_list:\n",
        "        if isinstance(item, list):  # If the item is a sublist\n",
        "            total += sum_nested_list(item)  # Recursively sum nested list\n",
        "        else:  # If the item is a number\n",
        "            total += item  # Add the number to the total sum\n",
        "\n",
        "    return total\n",
        "\n",
        "# Test the function with a sample nested list\n",
        "nested_list = [1, [2, [3, 4], 5], 6, [7, 8]]\n",
        "result = sum_nested_list(nested_list)\n",
        "\n",
        "# Print the result\n",
        "print(f\"The total sum of all numbers in the nested list is: {result}\")\n"
      ],
      "metadata": {
        "colab": {
          "base_uri": "https://localhost:8080/"
        },
        "id": "LIYfn5aiIhUG",
        "outputId": "fe599251-1438-4f4b-89f7-4e2750d50197"
      },
      "execution_count": 8,
      "outputs": [
        {
          "output_type": "stream",
          "name": "stdout",
          "text": [
            "The total sum of all numbers in the nested list is: 36\n"
          ]
        }
      ]
    },
    {
      "cell_type": "code",
      "source": [
        "# Task 2 - Generate All Permutations of  a String\n",
        "def generate_permutations(s):\n",
        "    \"\"\"\n",
        "    This function generates all unique permutations of the characters in the input string.\n",
        "\n",
        "    Args:\n",
        "    s (str): The input string for which permutations need to be generated.\n",
        "\n",
        "    Returns:\n",
        "    list: A list of all unique permutations of the input string.\n",
        "    \"\"\"\n",
        "    # return it as a list if the string has one or no characters,\n",
        "    if len(s) <= 1:\n",
        "        return [s]\n",
        "\n",
        "    # use a set to avoid duplicates in order to store unique permutations\n",
        "    permutations = set()\n",
        "\n",
        "    # Loop through each character in the string to generate permutations\n",
        "    for i in range(len(s)):\n",
        "        current_char = s[i]\n",
        "        remaining_str = s[:i] + s[i+1:]\n",
        "\n",
        "        # generate permutations for the remaining substring recursively\n",
        "        for permutation in generate_permutations(remaining_str):\n",
        "            permutations.add(current_char + permutation)\n",
        "\n",
        "    # Return the list of unique permutations\n",
        "    return list(permutations)\n",
        "\n",
        "# Test the function with sample strings\n",
        "print(generate_permutations(\"abc\"))\n",
        "\n",
        "# Test with a string containing duplicates\n",
        "print(generate_permutations(\"aab\"))\n"
      ],
      "metadata": {
        "colab": {
          "base_uri": "https://localhost:8080/"
        },
        "id": "OUTp7TZlJFTZ",
        "outputId": "54dcd708-f896-4b8f-a5e7-4284d483a396"
      },
      "execution_count": 9,
      "outputs": [
        {
          "output_type": "stream",
          "name": "stdout",
          "text": [
            "['cba', 'cab', 'bac', 'acb', 'bca', 'abc']\n",
            "['aab', 'aba', 'baa']\n"
          ]
        }
      ]
    },
    {
      "cell_type": "code",
      "source": [
        "# Task 3 - Directory Size Calculation\n",
        "def calculate_directory_size(directory):\n",
        "    \"\"\"\n",
        "    This function calculates the total size of a directory, including all nested subdirectories.\n",
        "\n",
        "    Args:\n",
        "    directory (dict): A dictionary representing the directory structure, where keys represents file names or\n",
        "                      and values as another dictionary representing a subdirectory.\n",
        "\n",
        "    Returns:\n",
        "    int: The total size of the directory, including all nested subdirectories.\n",
        "    \"\"\"\n",
        "\n",
        "    # Initialize the total size of the directory to 0\n",
        "    total = 0\n",
        "    # Iterate over each item in the directory structure\n",
        "    for item, value in directory.items():\n",
        "        if isinstance(value, dict):\n",
        "            total += calculate_directory_size(value)\n",
        "        else:\n",
        "            total+= value\n",
        "\n",
        "    # Return the total size\n",
        "    return total\n",
        "\n",
        "\n",
        "# Sample directory structure\n",
        "directory_structure = {\n",
        "    \"file1.txt\": 200,\n",
        "    \"file2.txt\": 300,\n",
        "    \"subdir1\": {\n",
        "        \"file3.txt\": 400,\n",
        "        \"file4.txt\": 100\n",
        "    },\n",
        "    \"subdir2\": {\n",
        "        \"subsubdir1\": {\n",
        "            \"file5.txt\": 250\n",
        "        },\n",
        "        \"file6.txt\": 150\n",
        "    }\n",
        "}\n",
        "\n",
        "# Test the function with the sample directory structure\n",
        "total = calculate_directory_size(directory_structure)\n",
        "\n",
        "# Print the total size of the directory\n",
        "print(f\"Total size of the directory: {total} KB\")\n"
      ],
      "metadata": {
        "colab": {
          "base_uri": "https://localhost:8080/"
        },
        "id": "TJWS3TgoJfRV",
        "outputId": "b3333690-1f33-49a4-cece-62985296723e"
      },
      "execution_count": 10,
      "outputs": [
        {
          "output_type": "stream",
          "name": "stdout",
          "text": [
            "Total size of the directory: 1400 KB\n"
          ]
        }
      ]
    },
    {
      "cell_type": "code",
      "source": [
        "# Task 1 - Coin Change Problem\n",
        "def min_coins(coins, amount):\n",
        "    \"\"\"\n",
        "    Finds the minimum number of coins needed to make up a given amount using dynamic programming.\n",
        "\n",
        "    This function solves the coin change problem by determining the fewest number of coins\n",
        "    from a given set of coin denominations that sum up to a target amount. The solution uses\n",
        "    dynamic programming (tabulation) to iteratively build up the minimum number of coins required\n",
        "    for each amount.\n",
        "\n",
        "    Parameters:\n",
        "    coins (list of int): A list of coin denominations available for making change. Each\n",
        "                          coin denomination is a positive integer.\n",
        "    amount (int): The target amount for which we need to find the minimum number of coins.\n",
        "                  It must be a non-negative integer.\n",
        "\n",
        "    Returns:\n",
        "    int: The minimum number of coins required to make the given amount. If it is not possible\n",
        "         to make the amount with the given coins, returns -1.\n",
        "\n",
        "    Example:\n",
        "    >>> min_coins([1, 2, 5], 11)\n",
        "    3\n",
        "\n",
        "    >>> min_coins([2], 3)\n",
        "    -1\n",
        "    \"\"\"\n",
        "    dp = [float(\"inf\")] * (amount + 1)\n",
        "    dp[0] = 0\n",
        "    for coin in coins:\n",
        "        for i in range(coin, amount + 1):\n",
        "            dp[i] = min(dp[i], dp[i - coin] + 1)\n",
        "    return dp[amount] if dp[amount] != float(\"inf\") else -1\n",
        "\n",
        "# Test the function\n",
        "coins = [1, 2, 5]\n",
        "amount = 11\n",
        "result = min_coins(coins, amount)\n",
        "print(f\"Minimum number of coins needed to make {amount} is: {result}\")\n"
      ],
      "metadata": {
        "colab": {
          "base_uri": "https://localhost:8080/"
        },
        "id": "9wlDFV0gJgc_",
        "outputId": "db54dd39-4bde-4262-e0a0-840cf771e85b"
      },
      "execution_count": 15,
      "outputs": [
        {
          "output_type": "stream",
          "name": "stdout",
          "text": [
            "Minimum number of coins needed to make 11 is: 3\n"
          ]
        }
      ]
    },
    {
      "cell_type": "code",
      "source": [
        "# Task 2- Longest Common Subsequence(LCS)\n",
        "def longest_common_subsequence(s1, s2):\n",
        "    \"\"\"\n",
        "    This function computes the length of the Longest Common Subsequence (LCS) of two strings s1 and s2.\n",
        "    The LCS is the longest sequence of characters that appear in both strings in the same order (but not necessarily consecutively).\n",
        "    To solve this problem, dynamic programming is used.\n",
        "\n",
        "    Parameters:\n",
        "    s1 (str): The first input string.\n",
        "    s2 (str): The second input string.\n",
        "\n",
        "    Returns:\n",
        "    int: The length of the longest common subsequence of s1 and s2.\n",
        "\n",
        "    Example:\n",
        "    >>> longest_common_subsequence(\"abcde\", \"ace\")\n",
        "    3\n",
        "    >>> longest_common_subsequence(\"abc\", \"abc\")\n",
        "    3\n",
        "    >>> longest_common_subsequence(\"abc\", \"def\")\n",
        "    0\n",
        "    \"\"\"\n",
        "    m = len(s1)\n",
        "    n = len(s2)\n",
        "    dp = [[0] * (n + 1) for _ in range(m + 1)]\n",
        "    for i in range(1, m + 1):\n",
        "        for j in range(1, n + 1):\n",
        "            if s1[i - 1] == s2[j - 1]:\n",
        "                dp[i][j] = dp[i - 1][j - 1] + 1\n",
        "            else:\n",
        "                dp[i][j] = max(dp[i - 1][j], dp[i][j - 1])\n",
        "    return dp[m][n]\n",
        "\n",
        "# Test the function with sample inputs\n",
        "s1 = \"abcde\"\n",
        "s2 = \"ace\"\n",
        "result = longest_common_subsequence(s1, s2)\n",
        "print(f\"Length of LCS of '{s1}' and '{s2}' is: {result}\")\n"
      ],
      "metadata": {
        "colab": {
          "base_uri": "https://localhost:8080/"
        },
        "id": "vB-7QX3qJ4vI",
        "outputId": "8a597826-8af7-47f1-aaad-4fd77b290e24"
      },
      "execution_count": 16,
      "outputs": [
        {
          "output_type": "stream",
          "name": "stdout",
          "text": [
            "Length of LCS of 'abcde' and 'ace' is: 3\n"
          ]
        }
      ]
    },
    {
      "cell_type": "code",
      "source": [
        "# Task 3- 0/1 Knapsack Problem\n",
        "def knapsack(weights, values, capacity):\n",
        "    \"\"\"\n",
        "    This function solves the 0/1 Knapsack problem using dynamic programming.\n",
        "    This function determines the maximum value that can be carried in a knapsack, given\n",
        "    a list of items, each with a weight and a value, and a weight capacity\n",
        "    for the knapsack.\n",
        "\n",
        "    Parameters:\n",
        "    weights (list of int): A list where each element represents the weight of an item.\n",
        "    values (list of int): A list where each element represents the value of the corresponding item.\n",
        "    capacity (int): The maximum weight capacity of the knapsack.\n",
        "\n",
        "    Returns:\n",
        "    int: The maximum value that can be obtained without exceeding the given capacity.\n",
        "\n",
        "    Example:\n",
        "    >>> knapsack([1, 3, 4, 5], [1, 4, 5, 7], 7)\n",
        "    9\n",
        "    \"\"\"\n",
        "    n = len(weights)\n",
        "    dp = [[0 for _ in range(capacity + 1)] for _ in range(n + 1)]\n",
        "    for i in range(1, n + 1):\n",
        "        for w in range(1, capacity + 1):\n",
        "            if weights[i-1] <= w:\n",
        "                dp[i][w] = max(dp[i-1][w], values[i-1] + dp[i-1][w - weights[i-1]])\n",
        "            else:\n",
        "                dp[i][w] = dp[i-1][w]\n",
        "    return dp[n][capacity]\n",
        "\n",
        "# Test the function with sample input\n",
        "weights = [1, 3, 4, 5]\n",
        "values = [1, 4, 5, 7]\n",
        "capacity = 7\n",
        "\n",
        "result = knapsack(weights, values, capacity)\n",
        "print(f\"The maximum value that can be carried is: {result}\")\n"
      ],
      "metadata": {
        "colab": {
          "base_uri": "https://localhost:8080/"
        },
        "id": "C32qW2rjJ53L",
        "outputId": "e3385d63-ea8f-4bb8-920f-aa989ad928b1"
      },
      "execution_count": 17,
      "outputs": [
        {
          "output_type": "stream",
          "name": "stdout",
          "text": [
            "The maximum value that can be carried is: 9\n"
          ]
        }
      ]
    }
  ]
}