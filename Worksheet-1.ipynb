{
  "nbformat": 4,
  "nbformat_minor": 0,
  "metadata": {
    "colab": {
      "provenance": []
    },
    "kernelspec": {
      "name": "python3",
      "display_name": "Python 3"
    },
    "language_info": {
      "name": "python"
    }
  },
  "cells": [
    {
      "cell_type": "markdown",
      "source": [
        "\n",
        "4.1 Warming Up Exercise: Basic Vector and Matrix Operation with Numpy.\n",
        "Problem - 1: Array Creation:\n",
        "Complete the following Tasks:\n",
        "1. Initialize an empty array with size 2X2.\n",
        "2. Initialize an all one array with size 4X2.\n",
        "3. Return a new array of given shape and type, filled with fill value.{Hint: np.full}\n",
        "4. Return a new array of zeros with same shape and type as a given array.{Hint: np.zeros like}\n",
        "5. Return a new array of ones with same shape and type as a given array.{Hint: np.ones like}\n",
        "6. For an existing list new_list = [1,2,3,4] convert to an numpy array.{Hint: np.array()}"
      ],
      "metadata": {
        "id": "F5mgw1yz9UUB"
      }
    },
    {
      "cell_type": "code",
      "execution_count": null,
      "metadata": {
        "colab": {
          "base_uri": "https://localhost:8080/"
        },
        "id": "vniKh4wLoH9w",
        "outputId": "c0e99cfc-2150-4ace-d021-06de524b77db"
      },
      "outputs": [
        {
          "output_type": "stream",
          "name": "stdout",
          "text": [
            "Empty array of 2x2 size: \n",
            " [[5.0227160e-310 0.0000000e+000]\n",
            " [6.7999229e-310 6.7999229e-310]]\n"
          ]
        }
      ],
      "source": [
        "import numpy as np\n",
        "#Create an empty array of 2X2 size using np.empty\n",
        "empty_array=np.empty((2,2))\n",
        "#Print the array\n",
        "print(\"Empty array of 2x2 size: \\n\",empty_array)"
      ]
    },
    {
      "cell_type": "code",
      "source": [
        "import numpy as np\n",
        "#Create a 4X2 array with all elements as 1 using np.ones\n",
        "one_array=np.ones((4,2))\n",
        "#Print the array\n",
        "print(\"All one array of size 4x2:\\n\",one_array)"
      ],
      "metadata": {
        "colab": {
          "base_uri": "https://localhost:8080/"
        },
        "id": "afgXDQgBpzKa",
        "outputId": "8538e77d-ea7a-4a9d-f9d3-834c97cf5fee"
      },
      "execution_count": null,
      "outputs": [
        {
          "output_type": "stream",
          "name": "stdout",
          "text": [
            "All one array of size 4x2:\n",
            " [[1. 1.]\n",
            " [1. 1.]\n",
            " [1. 1.]\n",
            " [1. 1.]]\n"
          ]
        }
      ]
    },
    {
      "cell_type": "code",
      "source": [
        "import numpy as np\n",
        "#Create a 2x3 array with all elements as 3\n",
        "new_array=np.full((2,3),3,dtype=int) #dtype shows that the array should have integer data type\n",
        "#print the array\n",
        "print(\"New array of given shape and type:\\n\",new_array)"
      ],
      "metadata": {
        "colab": {
          "base_uri": "https://localhost:8080/"
        },
        "id": "NZFJxtzVqDJf",
        "outputId": "152d0dee-2ec8-4d24-d67e-a8341db56e03"
      },
      "execution_count": null,
      "outputs": [
        {
          "output_type": "stream",
          "name": "stdout",
          "text": [
            "New array of given shape and type:\n",
            " [[3 3 3]\n",
            " [3 3 3]]\n"
          ]
        }
      ]
    },
    {
      "cell_type": "code",
      "source": [
        "import numpy as np\n",
        "#Create a 2x3 array using np.array\n",
        "array=np.array([[1,2,3],[4,5,6]])\n",
        "#Create a new array with same shape as array but filled with zeros\n",
        "new_array=np.zeros_like(array)\n",
        "#Print the new array\n",
        "print(\"New array: \\n\",new_array)"
      ],
      "metadata": {
        "colab": {
          "base_uri": "https://localhost:8080/"
        },
        "id": "fn85pJ5dra7n",
        "outputId": "c3bf347e-e635-4399-f3a3-504c2ee7c7f7"
      },
      "execution_count": null,
      "outputs": [
        {
          "output_type": "stream",
          "name": "stdout",
          "text": [
            "New array: \n",
            " [[0 0 0]\n",
            " [0 0 0]]\n"
          ]
        }
      ]
    },
    {
      "cell_type": "code",
      "source": [
        "import numpy as np\n",
        "#Create 2x3 array using np.array\n",
        "array=np.array([[1,2,3],[4,5,6]])\n",
        "#Create a new array with same shape as array but filled with ones\n",
        "new_array=np.ones_like(array)\n",
        "#Print the new array\n",
        "print(\"New array: \\n\",new_array)"
      ],
      "metadata": {
        "colab": {
          "base_uri": "https://localhost:8080/"
        },
        "id": "fOx1AfsnsOeY",
        "outputId": "ced7cc59-c308-4881-d7dc-4f47b529fc25"
      },
      "execution_count": null,
      "outputs": [
        {
          "output_type": "stream",
          "name": "stdout",
          "text": [
            "New array: \n",
            " [[1 1 1]\n",
            " [1 1 1]]\n"
          ]
        }
      ]
    },
    {
      "cell_type": "code",
      "source": [
        "import numpy as np\n",
        "#Create a simple python list\n",
        "new_list=[1,2,3,4]\n",
        "#Convert python list to numpy array using np.array\n",
        "numpy_array=np.array(new_list)\n",
        "#print the array\n",
        "print(\"Converted array:\\n\",numpy_array)"
      ],
      "metadata": {
        "colab": {
          "base_uri": "https://localhost:8080/"
        },
        "id": "DN939eWvsXyX",
        "outputId": "5633b6cc-28fb-4dcf-f643-65f69f375be6"
      },
      "execution_count": null,
      "outputs": [
        {
          "output_type": "stream",
          "name": "stdout",
          "text": [
            "Converted array:\n",
            " [1 2 3 4]\n"
          ]
        }
      ]
    },
    {
      "cell_type": "markdown",
      "source": [
        "4.1.1 Problem - 2: Array Manipulation: Numerical Ranges and Array indexing:\n",
        "Complete the following tasks:\n",
        "1. Create an array with values ranging from 10 to 49. {Hint:np.arrange()}.\n",
        "2. Create a 3X3 matrix with values ranging from 0 to 8.\n",
        "{Hint:look for np.reshape()}\n",
        "3. Create a 3X3 identity matrix.{Hint:np.eye()}\n",
        "4. Create a random array of size 30 and find the mean of the array.\n",
        "{Hint:check for np.random.random() and array.mean() function}\n",
        "5. Create a 10X10 array with random values and find the minimum and maximum values.\n",
        "6. Create a zero array of size 10 and replace 5th element with 1.\n",
        "7. Reverse an array arr = [1,2,0,0,4,0].\n",
        "8. Create a 2d array with 1 on border and 0 inside.\n",
        "9. Create a 8X8 matrix and fill it with a checkerboard pattern."
      ],
      "metadata": {
        "id": "Tpy5MWI09jQg"
      }
    },
    {
      "cell_type": "code",
      "source": [
        "import numpy as np\n",
        "a=np.arange(10,49)\n",
        "print(a)"
      ],
      "metadata": {
        "colab": {
          "base_uri": "https://localhost:8080/"
        },
        "id": "UfMvyA51s-dq",
        "outputId": "b643457b-e261-4329-94fd-6a7e6cd1653d"
      },
      "execution_count": null,
      "outputs": [
        {
          "output_type": "stream",
          "name": "stdout",
          "text": [
            "[10 11 12 13 14 15 16 17 18 19 20 21 22 23 24 25 26 27 28 29 30 31 32 33\n",
            " 34 35 36 37 38 39 40 41 42 43 44 45 46 47 48]\n"
          ]
        }
      ]
    },
    {
      "cell_type": "code",
      "source": [
        "import numpy as np\n",
        "a=np.arange(9)\n",
        "matrix=a.reshape(3,3)\n",
        "print(\"3x3 matrix:\\n\",matrix)"
      ],
      "metadata": {
        "colab": {
          "base_uri": "https://localhost:8080/"
        },
        "id": "ERuOFB98uT4z",
        "outputId": "c72feba3-b04c-4a7f-aa7a-e9f2f8cda747"
      },
      "execution_count": null,
      "outputs": [
        {
          "output_type": "stream",
          "name": "stdout",
          "text": [
            "3x3 matrix:\n",
            " [[0 1 2]\n",
            " [3 4 5]\n",
            " [6 7 8]]\n"
          ]
        }
      ]
    },
    {
      "cell_type": "code",
      "source": [
        "import numpy as np\n",
        "matrix=np.eye(3)\n",
        "print(\"3x3 Identity Matrix:\\n\",matrix)"
      ],
      "metadata": {
        "colab": {
          "base_uri": "https://localhost:8080/"
        },
        "id": "WCrdlU_jvx_S",
        "outputId": "aeef06c5-9e18-4e25-a730-899c95ecd60c"
      },
      "execution_count": null,
      "outputs": [
        {
          "output_type": "stream",
          "name": "stdout",
          "text": [
            "3x3 Identity Matrix:\n",
            " [[1. 0. 0.]\n",
            " [0. 1. 0.]\n",
            " [0. 0. 1.]]\n"
          ]
        }
      ]
    },
    {
      "cell_type": "code",
      "source": [
        "import numpy as np\n",
        "array=np.random.random(30);\n",
        "mean_array=array.mean();\n",
        "print(mean_array);"
      ],
      "metadata": {
        "id": "nW3Lzj3rwo5l",
        "colab": {
          "base_uri": "https://localhost:8080/"
        },
        "outputId": "11663d23-6fe8-42aa-b96f-d0303a9fcc05"
      },
      "execution_count": null,
      "outputs": [
        {
          "output_type": "stream",
          "name": "stdout",
          "text": [
            "0.4908887687574654\n"
          ]
        }
      ]
    },
    {
      "cell_type": "code",
      "source": [
        "import numpy as np\n",
        "array=np.random.random((10,10));\n",
        "min_value=array.min();\n",
        "max_value=array.max();\n",
        "print(\"Minimum Value: \",min_value,\"\\nMaximum Value: \",max_value);"
      ],
      "metadata": {
        "colab": {
          "base_uri": "https://localhost:8080/"
        },
        "id": "wsGzDZ-GcyOn",
        "outputId": "1283b050-872f-4923-f5b3-f2a7837b0720"
      },
      "execution_count": null,
      "outputs": [
        {
          "output_type": "stream",
          "name": "stdout",
          "text": [
            "Minimum Value:  0.01901098865349138 \n",
            "Maximum Value:  0.9955442964440274\n"
          ]
        }
      ]
    },
    {
      "cell_type": "code",
      "source": [
        "import numpy as np\n",
        "zero_array=np.zeros(10);\n",
        "zero_array[4]=1;\n",
        "print(zero_array);"
      ],
      "metadata": {
        "colab": {
          "base_uri": "https://localhost:8080/"
        },
        "id": "5kBJT_M_degV",
        "outputId": "fd8b3995-3e97-4942-aa94-b35adc460677"
      },
      "execution_count": null,
      "outputs": [
        {
          "output_type": "stream",
          "name": "stdout",
          "text": [
            "[0. 0. 0. 0. 1. 0. 0. 0. 0. 0.]\n"
          ]
        }
      ]
    },
    {
      "cell_type": "code",
      "source": [
        "import numpy as np\n",
        "arr=[1,2,0,0,4,0];\n",
        "reversed_array=arr[::-1];\n",
        "print(reversed_array)"
      ],
      "metadata": {
        "colab": {
          "base_uri": "https://localhost:8080/"
        },
        "id": "CJmSPRXHdvrk",
        "outputId": "f3aa8538-67c8-4116-d224-9bc9526798c7"
      },
      "execution_count": null,
      "outputs": [
        {
          "output_type": "stream",
          "name": "stdout",
          "text": [
            "[0, 4, 0, 0, 2, 1]\n"
          ]
        }
      ]
    },
    {
      "cell_type": "code",
      "source": [
        "import numpy as np\n",
        "array=np.ones((5,5));\n",
        "array[1:-1,1:-1]=0;\n",
        "print(array)"
      ],
      "metadata": {
        "colab": {
          "base_uri": "https://localhost:8080/"
        },
        "id": "pk4-lpXAfZWM",
        "outputId": "d101ed8a-098c-4be4-99e8-be659fedfd1f"
      },
      "execution_count": null,
      "outputs": [
        {
          "output_type": "stream",
          "name": "stdout",
          "text": [
            "[[1. 1. 1. 1. 1.]\n",
            " [1. 0. 0. 0. 1.]\n",
            " [1. 0. 0. 0. 1.]\n",
            " [1. 0. 0. 0. 1.]\n",
            " [1. 1. 1. 1. 1.]]\n"
          ]
        }
      ]
    },
    {
      "cell_type": "code",
      "source": [
        "import numpy as np\n",
        "arr=np.zeros((8,8));\n",
        "arr[1::2,::2]=1;\n",
        "arr[::2,1::2]=1;\n",
        "print(arr)"
      ],
      "metadata": {
        "colab": {
          "base_uri": "https://localhost:8080/"
        },
        "id": "ZLbl7BRJic2g",
        "outputId": "cb409ee8-fe2c-4ae8-88bd-9a090ff76580"
      },
      "execution_count": null,
      "outputs": [
        {
          "output_type": "stream",
          "name": "stdout",
          "text": [
            "[[0. 1. 0. 1. 0. 1. 0. 1.]\n",
            " [1. 0. 1. 0. 1. 0. 1. 0.]\n",
            " [0. 1. 0. 1. 0. 1. 0. 1.]\n",
            " [1. 0. 1. 0. 1. 0. 1. 0.]\n",
            " [0. 1. 0. 1. 0. 1. 0. 1.]\n",
            " [1. 0. 1. 0. 1. 0. 1. 0.]\n",
            " [0. 1. 0. 1. 0. 1. 0. 1.]\n",
            " [1. 0. 1. 0. 1. 0. 1. 0.]]\n"
          ]
        }
      ]
    },
    {
      "cell_type": "markdown",
      "source": [
        "Problem - 3: Array Operations:\n",
        "For the following arrays:\n",
        "x = np.array([[1,2],[3,5]]) and y = np.array([[5,6],[7,8]]);\n",
        "v = np.array([9,10]) and w = np.array([11,12]);\n",
        "Complete all the task using numpy:\n",
        "1. Add the two array.\n",
        "2. Subtract the two array.\n",
        "3. Multiply the array with any integers of your choice.\n",
        "4. Find the square of each element of the array.\n",
        "5. Find the dot product between: v(and)w ; x(and)v ; x(and)y.\n",
        "6. Concatenate x(and)y along row and Concatenate v(and)w along column.\n",
        "{Hint:try np.concatenate() or np.vstack() functions.\n",
        "7. Concatenate x(and)v; if you get an error, observe and explain why did you get the error?"
      ],
      "metadata": {
        "id": "XeXNiIQ_9p6l"
      }
    },
    {
      "cell_type": "code",
      "source": [
        "import numpy as np\n",
        "x=np.array([[1,2],[3,5]]);\n",
        "y=np.array([[5,6],[7,8]]);\n",
        "v=np.array([9,10]);\n",
        "w=np.array([11,12]);\n",
        "#adding two array\n",
        "add1=np.add(x,y);\n",
        "add2=np.add(v,w);\n",
        "print(\"Addition of x and y:\\n\",add1)\n",
        "print(\"Addition of v and w: \",add2)"
      ],
      "metadata": {
        "colab": {
          "base_uri": "https://localhost:8080/"
        },
        "id": "aKKDdpKzi9ty",
        "outputId": "4a1870bb-6c46-4766-ea8f-73745d87a91b"
      },
      "execution_count": null,
      "outputs": [
        {
          "output_type": "stream",
          "name": "stdout",
          "text": [
            "Addition of x and y:\n",
            " [[ 6  8]\n",
            " [10 13]]\n",
            "Addition of v and w:  [20 22]\n",
            "Diffference of x and y:\n",
            " [[-4 -4]\n",
            " [-4 -3]]\n",
            "Difference of v and w:  [-2 -2]\n",
            "Multiplication of x and y with integer:\n",
            " [[[ 2  4]\n",
            "  [ 6 10]]\n",
            "\n",
            " [[10 12]\n",
            "  [14 16]]]\n",
            "Multiplication of v and w with integer:  [[27 30]\n",
            " [33 36]]\n",
            "Square of x:\n",
            " [[ 1  4]\n",
            " [ 9 25]]\n",
            "Square of y:\n",
            " [[25 36]\n",
            " [49 64]]\n",
            "Square of v:\n",
            " [ 81 100]\n",
            "Square of w:\n",
            " [121 144]\n"
          ]
        }
      ]
    },
    {
      "cell_type": "code",
      "source": [
        "import numpy as np\n",
        "x=np.array([[1,2],[3,5]]);\n",
        "y=np.array([[5,6],[7,8]]);\n",
        "v=np.array([9,10]);\n",
        "w=np.array([11,12]);\n",
        "#Subtracting two array\n",
        "sub1=np.subtract(x,y);\n",
        "sub2=np.subtract(v,w);\n",
        "print(\"Diffference of x and y:\\n\",sub1)\n",
        "print(\"Difference of v and w: \",sub2)"
      ],
      "metadata": {
        "colab": {
          "base_uri": "https://localhost:8080/"
        },
        "id": "q4ucFcosj8qu",
        "outputId": "11435976-6d54-49f8-fce2-4db159771900"
      },
      "execution_count": null,
      "outputs": [
        {
          "output_type": "stream",
          "name": "stdout",
          "text": [
            "Diffference of x and y:\n",
            " [[-4 -4]\n",
            " [-4 -3]]\n",
            "Difference of v and w:  [-2 -2]\n"
          ]
        }
      ]
    },
    {
      "cell_type": "code",
      "source": [
        "import numpy as np\n",
        "x=np.array([[1,2],[3,5]]);\n",
        "y=np.array([[5,6],[7,8]]);\n",
        "v=np.array([9,10]);\n",
        "w=np.array([11,12]);\n",
        "#Multiplying array with a random integer\n",
        "mul1=np.multiply((x,y),2);\n",
        "mul2=np.multiply((v,w),3);\n",
        "print(\"Multiplication of x and y with integer:\\n\",mul1)\n",
        "print(\"Multiplication of v and w with integer:\\n\",mul2)"
      ],
      "metadata": {
        "colab": {
          "base_uri": "https://localhost:8080/"
        },
        "id": "QO5v8tnAmO4l",
        "outputId": "c8215f7d-bb41-4066-9890-1a45cc7826a2"
      },
      "execution_count": null,
      "outputs": [
        {
          "output_type": "stream",
          "name": "stdout",
          "text": [
            "Multiplication of x and y with integer:\n",
            " [[[ 2  4]\n",
            "  [ 6 10]]\n",
            "\n",
            " [[10 12]\n",
            "  [14 16]]]\n",
            "Multiplication of v and w with integer:\n",
            " [[27 30]\n",
            " [33 36]]\n"
          ]
        }
      ]
    },
    {
      "cell_type": "code",
      "source": [
        "import numpy as np\n",
        "x=np.array([[1,2],[3,5]]);\n",
        "y=np.array([[5,6],[7,8]]);\n",
        "v=np.array([9,10]);\n",
        "w=np.array([11,12]);\n",
        "#finding square of each element of array\n",
        "sq1=np.square(x);\n",
        "sq2=np.square(y);\n",
        "sq3=np.square(v);\n",
        "sq4=np.square(w);\n",
        "print(\"Square of x:\\n\",sq1);\n",
        "print(\"Square of y:\\n\",sq2);\n",
        "print(\"Square of v:\\n\",sq3);\n",
        "print(\"Square of w:\\n\",sq4);"
      ],
      "metadata": {
        "colab": {
          "base_uri": "https://localhost:8080/"
        },
        "id": "RiBBtiR3mPxS",
        "outputId": "7e5b9c82-e3f2-4265-f31f-d6627b74e920"
      },
      "execution_count": null,
      "outputs": [
        {
          "output_type": "stream",
          "name": "stdout",
          "text": [
            "Square of x:\n",
            " [[ 1  4]\n",
            " [ 9 25]]\n",
            "Square of y:\n",
            " [[25 36]\n",
            " [49 64]]\n",
            "Square of v:\n",
            " [ 81 100]\n",
            "Square of w:\n",
            " [121 144]\n"
          ]
        }
      ]
    },
    {
      "cell_type": "code",
      "source": [
        "import numpy as np\n",
        "x=np.array([[1,2],[3,5]]);\n",
        "y=np.array([[5,6],[7,8]]);\n",
        "v=np.array([9,10]);\n",
        "w=np.array([11,12]);\n",
        "#finding dot product between v and w\n",
        "dp1=np.dot(v,w);\n",
        "print(\"Dot product of v and w: \",dp1)\n",
        "#finding dot product of x and v\n",
        "dp2=np.dot(x,v);\n",
        "print(\"Dot product of x and v:\\n\",dp2)\n",
        "#finding dot product of x and y\n",
        "dp3=np.dot(x,y);\n",
        "print(\"Dot product of x and y:\\n\",dp3)"
      ],
      "metadata": {
        "colab": {
          "base_uri": "https://localhost:8080/"
        },
        "id": "WwDv_rCymQSj",
        "outputId": "0b545c6d-a1bd-43f3-8b01-6a8cc41edfee"
      },
      "execution_count": null,
      "outputs": [
        {
          "output_type": "stream",
          "name": "stdout",
          "text": [
            "Dot product of v and w:  219\n",
            "Dot product of x and v:\n",
            " [29 77]\n",
            "Dot product of x and y:\n",
            " [[19 22]\n",
            " [50 58]]\n"
          ]
        }
      ]
    },
    {
      "cell_type": "code",
      "source": [
        "import numpy as np\n",
        "x=np.array([[1,2],[3,5]]);\n",
        "y=np.array([[5,6],[7,8]]);\n",
        "v=np.array([9,10]);\n",
        "w=np.array([11,12]);\n",
        "#Concatenating x and y along the x-axis\n",
        "concat1=np.concatenate((x,y),axis=1);\n",
        "print(\"Concatenation of x and y along the x-axis:\\n\",concat1);\n",
        "#Concatenating v and w along the y-axis\n",
        "concat2=np.concatenate((v,w),axis=0);\n",
        "print(\"Concatenation of v and w along the y-axis:\\n\",concat2);"
      ],
      "metadata": {
        "colab": {
          "base_uri": "https://localhost:8080/"
        },
        "id": "DhQZRCqVmQ34",
        "outputId": "810923ee-adcd-4e18-bb8b-ec60e20c79fb"
      },
      "execution_count": null,
      "outputs": [
        {
          "output_type": "stream",
          "name": "stdout",
          "text": [
            "Concatenation of x and y along the x-axis:\n",
            " [[1 2 5 6]\n",
            " [3 5 7 8]]\n",
            "Concatenation of v and w along the y-axis:\n",
            " [ 9 10 11 12]\n"
          ]
        }
      ]
    },
    {
      "cell_type": "code",
      "source": [
        "import numpy as np\n",
        "x=np.array([[1,2],[3,5]]);\n",
        "y=np.array([[5,6],[7,8]]);\n",
        "v=np.array([9,10]);\n",
        "w=np.array([11,12]);\n",
        "#Concatenating x and v\n",
        "concat=np.concatenate(x,v);\n",
        "print(concat)"
      ],
      "metadata": {
        "colab": {
          "base_uri": "https://localhost:8080/",
          "height": 193
        },
        "id": "q1Wz6IJQmRU9",
        "outputId": "e89df4f5-d167-4d3e-c5f2-7e7e6cfbea5d"
      },
      "execution_count": null,
      "outputs": [
        {
          "output_type": "error",
          "ename": "TypeError",
          "evalue": "only integer scalar arrays can be converted to a scalar index",
          "traceback": [
            "\u001b[0;31m---------------------------------------------------------------------------\u001b[0m",
            "\u001b[0;31mTypeError\u001b[0m                                 Traceback (most recent call last)",
            "\u001b[0;32m<ipython-input-33-3da6faa8b9f6>\u001b[0m in \u001b[0;36m<cell line: 7>\u001b[0;34m()\u001b[0m\n\u001b[1;32m      5\u001b[0m \u001b[0mw\u001b[0m\u001b[0;34m=\u001b[0m\u001b[0mnp\u001b[0m\u001b[0;34m.\u001b[0m\u001b[0marray\u001b[0m\u001b[0;34m(\u001b[0m\u001b[0;34m[\u001b[0m\u001b[0;36m11\u001b[0m\u001b[0;34m,\u001b[0m\u001b[0;36m12\u001b[0m\u001b[0;34m]\u001b[0m\u001b[0;34m)\u001b[0m\u001b[0;34m;\u001b[0m\u001b[0;34m\u001b[0m\u001b[0;34m\u001b[0m\u001b[0m\n\u001b[1;32m      6\u001b[0m \u001b[0;31m#Concatenating x and v\u001b[0m\u001b[0;34m\u001b[0m\u001b[0;34m\u001b[0m\u001b[0m\n\u001b[0;32m----> 7\u001b[0;31m \u001b[0mconcat\u001b[0m\u001b[0;34m=\u001b[0m\u001b[0mnp\u001b[0m\u001b[0;34m.\u001b[0m\u001b[0mconcatenate\u001b[0m\u001b[0;34m(\u001b[0m\u001b[0mx\u001b[0m\u001b[0;34m,\u001b[0m\u001b[0mv\u001b[0m\u001b[0;34m)\u001b[0m\u001b[0;34m;\u001b[0m\u001b[0;34m\u001b[0m\u001b[0;34m\u001b[0m\u001b[0m\n\u001b[0m\u001b[1;32m      8\u001b[0m \u001b[0mprint\u001b[0m\u001b[0;34m(\u001b[0m\u001b[0mconcat\u001b[0m\u001b[0;34m)\u001b[0m\u001b[0;34m\u001b[0m\u001b[0;34m\u001b[0m\u001b[0m\n",
            "\u001b[0;31mTypeError\u001b[0m: only integer scalar arrays can be converted to a scalar index"
          ]
        }
      ]
    },
    {
      "cell_type": "markdown",
      "source": [
        "TypeError is observed because the dimension of both array should be same while concatenating but here x is 2D and v is 1D."
      ],
      "metadata": {
        "id": "yYsTgyBhouX2"
      }
    },
    {
      "cell_type": "markdown",
      "source": [
        "Problem - 4: Matrix Operations:\n",
        "• For the following arrays:\n",
        "A = np.array([[3,4],[7,8]]) and B = np.array([[5,3],[2,1]]);\n",
        "Prove following with Numpy:\n",
        "1. Prove A.A−1 = I.\n",
        "2. Prove AB ̸= BA.\n",
        "3. Prove (AB)T = BTAT\n",
        ".\n",
        "\n",
        "• Solve the following system of Linear equation using Inverse Methods.\n",
        "\n",
        "2x − 3y + z = −1\n",
        "x − y + 2z = −3\n",
        "3x + y − z = 9\n",
        "\n",
        "{Hint: First use Numpy array to represent the equation in Matrix form. Then Solve for: AX = B}\n",
        "• Now: solve the above equation using np.linalg.inv function.{Explore more about ”linalg” function\n",
        "of Numpy}"
      ],
      "metadata": {
        "id": "lxbqP0vX9wMn"
      }
    },
    {
      "cell_type": "code",
      "source": [
        "import numpy as np\n",
        "A = np.array([[3,4],[7,8]]);\n",
        "B = np.array([[5,3],[2,1]]);\n",
        "#Calculate inverse of matrix A using linalg function\n",
        "A_inverse=np.linalg.inv(A)\n",
        "#Multiply matrix A to its inverse to verify the equation\n",
        "I=np.dot(A,A_inverse)\n",
        "#print the result that should be identity matrix\n",
        "print(\"A*A^(-1):\\n\",I)"
      ],
      "metadata": {
        "colab": {
          "base_uri": "https://localhost:8080/"
        },
        "id": "lL6YLjqs7SUi",
        "outputId": "70f8718a-abc1-40f9-cfe9-7bd95f9e7b38"
      },
      "execution_count": null,
      "outputs": [
        {
          "output_type": "stream",
          "name": "stdout",
          "text": [
            "A*A^(-1):\n",
            " [[1.00000000e+00 0.00000000e+00]\n",
            " [1.77635684e-15 1.00000000e+00]]\n"
          ]
        }
      ]
    },
    {
      "cell_type": "code",
      "source": [
        "import numpy as np\n",
        "A = np.array([[3,4],[7,8]]);\n",
        "B = np.array([[5,3],[2,1]]);\n",
        "#Multiply matrices using np.dot\n",
        "AB=np.dot(A,B);\n",
        "BA=np.dot(B,A)\n",
        "#Print the results\n",
        "print(\"AB:\\n\",AB)\n",
        "print(\"BA:\\n\",BA)"
      ],
      "metadata": {
        "colab": {
          "base_uri": "https://localhost:8080/"
        },
        "id": "-YCkvjvV-EcW",
        "outputId": "8d2d323d-a3d1-4492-fbca-b571d17f728b"
      },
      "execution_count": null,
      "outputs": [
        {
          "output_type": "stream",
          "name": "stdout",
          "text": [
            "AB:\n",
            " [[23 13]\n",
            " [51 29]]\n",
            "BA:\n",
            " [[36 44]\n",
            " [13 16]]\n"
          ]
        }
      ]
    },
    {
      "cell_type": "code",
      "source": [
        "import numpy as np\n",
        "A = np.array([[3,4],[7,8]]);\n",
        "B = np.array([[5,3],[2,1]]);\n",
        "#Multiply two matrices using np.dot\n",
        "AB=np.dot(A,B)\n",
        "#find transpose of matrices using np.transpose\n",
        "ABT=np.transpose(AB)\n",
        "AT=np.transpose(A)\n",
        "BT=np.transpose(B)\n",
        "BTAT=np.dot(BT,AT)\n",
        "#Print the results to prove the equation\n",
        "print(\"(AB)^T:\\n\",ABT)\n",
        "print(\"(B)^T(A)^T: \\n\",BTAT)"
      ],
      "metadata": {
        "colab": {
          "base_uri": "https://localhost:8080/"
        },
        "id": "4OnXik-D-lWk",
        "outputId": "df0bc81c-2f21-4d13-dbad-2b585a32dac9"
      },
      "execution_count": null,
      "outputs": [
        {
          "output_type": "stream",
          "name": "stdout",
          "text": [
            "(AB)^T:\n",
            " [[23 51]\n",
            " [13 29]]\n",
            "(B)^T(A)^T: \n",
            " [[23 51]\n",
            " [13 29]]\n"
          ]
        }
      ]
    },
    {
      "cell_type": "code",
      "source": [
        "import numpy as np\n",
        "A = np.array([[2,-3,1],[1,-1,2],[3,1,-1]]);\n",
        "B = np.array([-1,-3,9]);\n",
        "#Calculate the inverse of matrix A using np.linalg.inv()\n",
        "A_inverse=np.linalg.inv(A)\n",
        "#Multiply inverse of A to matrix B using np.dot\n",
        "X=np.dot(A_inverse,B)\n",
        "#print the solution\n",
        "print(\"So the values of x,y and z are:\",X)"
      ],
      "metadata": {
        "colab": {
          "base_uri": "https://localhost:8080/"
        },
        "id": "ML61zG-r_XXH",
        "outputId": "aa80b47a-1d79-47e5-8b1c-1461bbb0beb3"
      },
      "execution_count": null,
      "outputs": [
        {
          "output_type": "stream",
          "name": "stdout",
          "text": [
            "So the values of x,y and z are: [ 2.  1. -2.]\n"
          ]
        }
      ]
    },
    {
      "cell_type": "markdown",
      "source": [
        "Linear algebra(linalg) function makes it easier to perform operations commonly used in mathematics and Machine Learning.This can be used for matrix inversion(np.linalg.inv(A)), finding determinant(np.linalg.det(A)) and solving linear systems(np.linalg.solve(A,B))."
      ],
      "metadata": {
        "id": "cgSDIAAO-Z31"
      }
    },
    {
      "cell_type": "markdown",
      "source": [
        "4.2 Experiment: How Fast is Numpy?\n",
        "In this exercise, you will compare the performance and implementation of operations using plain Python\n",
        "lists (arrays) and NumPy arrays. Follow the instructions:\n",
        "1. Element-wise Addition:\n",
        "• Using Python Lists, perform element-wise addition of two lists of size 1, 000, 000. Measure\n",
        "and Print the time taken for this operation.\n",
        "• Using Numpy Arrays, Repeat the calculation and measure and print the time taken for this\n",
        "operation."
      ],
      "metadata": {
        "id": "U2gwiFmy-BIg"
      }
    },
    {
      "cell_type": "code",
      "source": [
        "import numpy as np\n",
        "from timeit import timeit\n",
        "#Define addition functions\n",
        "def add_python(Z1,Z2):\n",
        "  return[z1+z2 for z1,z2 in zip(Z1,Z2)]\n",
        "def add_numpy(Z1,Z2):\n",
        "  return np.add(Z1,Z2)\n",
        "#Generate random sample data\n",
        "size=1000000\n",
        "Z1_list=[i for i in range(size)]\n",
        "Z2_list=[i for i in range(size)]\n",
        "Z1_np=np.array(Z1_list)\n",
        "Z2_np=np.array(Z2_list)\n",
        "#Time the execution of each function\n",
        "python_time=timeit(\"add_python(Z1_list,Z2_list)\",globals=globals(),number=100)\n",
        "numpy_time=timeit(\"add_numpy(Z1_np,Z2_np)\",globals=globals(),number=100)\n",
        "#Print results\n",
        "print(f\"Pure Python addition:{python_time:.6f}seconds per loop\")\n",
        "print(f\"NumPy addition:{numpy_time:.6f}seconds per loop\")"
      ],
      "metadata": {
        "colab": {
          "base_uri": "https://localhost:8080/"
        },
        "id": "E_KqyA3YAS3v",
        "outputId": "abf26635-10a2-4182-b352-22dad312061c"
      },
      "execution_count": null,
      "outputs": [
        {
          "output_type": "stream",
          "name": "stdout",
          "text": [
            "Pure Python addition:9.292708seconds per loop\n",
            "NumPy addition:0.127785seconds per loop\n"
          ]
        }
      ]
    },
    {
      "cell_type": "markdown",
      "source": [
        "2. Element-wise Multiplication\n",
        "\n",
        "• Using Python Lists, perform element-wise multiplication of two lists of size 1, 000, 000. Mea-\n",
        "sure and Print the time taken for this operation.\n",
        "\n",
        "• Using Numpy Arrays, Repeat the calculation and measure and print the time taken for this\n",
        "operation."
      ],
      "metadata": {
        "id": "6D_tLUPf-ErA"
      }
    },
    {
      "cell_type": "code",
      "source": [
        "import numpy as np\n",
        "from timeit import timeit\n",
        "#Define multiplication functions\n",
        "def mul_python(Z1,Z2):\n",
        "  return[z1*z2 for z1,z2 in zip(Z1,Z2)]\n",
        "def mul_numpy(Z1,Z2):\n",
        "  return np.multiply(Z1,Z2)\n",
        "#Generate random sample data\n",
        "size=1000000\n",
        "Z1_list=[i for i in range(size)]\n",
        "Z2_list=[i for i in range(size)]\n",
        "Z1_np=np.array(Z1_list)\n",
        "Z2_np=np.array(Z2_list)\n",
        "#Time the execution of each function\n",
        "python_time=timeit(\"mul_python(Z1_list,Z2_list)\",globals=globals(),number=100)\n",
        "numpy_time=timeit(\"mul_numpy(Z1_np,Z2_np)\",globals=globals(),number=100)\n",
        "#Print results\n",
        "print(f\"Pure Python multiplication:{python_time:.6f}seconds per loop\")\n",
        "print(f\"NumPy multiplication:{numpy_time:.6f}seconds per loop\")"
      ],
      "metadata": {
        "colab": {
          "base_uri": "https://localhost:8080/"
        },
        "id": "veiueo8MHVPg",
        "outputId": "4adad22e-f09e-4af0-a513-f29bd9b78789"
      },
      "execution_count": null,
      "outputs": [
        {
          "output_type": "stream",
          "name": "stdout",
          "text": [
            "Pure Python multiplication:10.586792seconds per loop\n",
            "NumPy multiplication:0.147762seconds per loop\n"
          ]
        }
      ]
    },
    {
      "cell_type": "markdown",
      "source": [
        "3. Dot Product\n",
        "• Using Python Lists, compute the dot product of two lists of size 1, 000, 000. Measure and\n",
        "Print the time taken for this operation.\n",
        "• Using Numpy Arrays, Repeat the calculation and measure and print the time taken for this\n",
        "operation."
      ],
      "metadata": {
        "id": "uERl01BK-G9A"
      }
    },
    {
      "cell_type": "code",
      "source": [
        "import numpy as np\n",
        "import random\n",
        "from timeit import timeit\n",
        "#Define dot product functions\n",
        "def dot_python(Z1,Z2):\n",
        "  return sum(z1*z2 for z1,z2 in zip(Z1,Z2))\n",
        "def dot_numpy(Z1,Z2):\n",
        "  return np.dot(Z1,Z2)\n",
        "#Generate random sample data\n",
        "size=1000000\n",
        "Z1_list=random.sample(range(size+1),size)\n",
        "Z2_list=random.sample(range(size+1),size)\n",
        "Z1_np=np.array(Z1_list)\n",
        "Z2_np=np.array(Z2_list)\n",
        "#Time the execution of each function\n",
        "python_time=timeit(\"dot_python(Z1_list,Z2_list)\",globals=globals(),number=100)\n",
        "numpy_time=timeit(\"dot_numpy(Z1_np,Z2_np)\",globals=globals(),number=100)\n",
        "#Print results\n",
        "print(f\"Pure Python dot product:{python_time:.6f}seconds per loop\")\n",
        "print(f\"NumPy dot product:{numpy_time:.6f}seconds per loop\")"
      ],
      "metadata": {
        "colab": {
          "base_uri": "https://localhost:8080/"
        },
        "id": "q_uWhG79H-34",
        "outputId": "0599100d-35f4-43e5-f74d-0af090edf25b"
      },
      "execution_count": null,
      "outputs": [
        {
          "output_type": "stream",
          "name": "stdout",
          "text": [
            "Pure Python dot product:36.073293seconds per loop\n",
            "NumPy dot product:0.146366seconds per loop\n"
          ]
        }
      ]
    },
    {
      "cell_type": "markdown",
      "source": [
        "4. Matrix Multiplication\n",
        "• Using Python lists, perform matrix multiplication of two matrices of size 1000x1000. Measure\n",
        "and print the time taken for this operation.\n",
        "\n",
        "• Using NumPy arrays, perform matrix multiplication of two matrices of size 1000x1000. Mea-\n",
        "sure and print the time taken for this operation."
      ],
      "metadata": {
        "id": "wW_nHGWY-J0L"
      }
    },
    {
      "cell_type": "code",
      "source": [
        "import numpy as np\n",
        "import random\n",
        "from timeit import timeit\n",
        "#Define matrix multiplication functions\n",
        "def matrix_mul_python(A,B):\n",
        "  size=len(A)\n",
        "  result=[[0]*size for _ in range(size)]\n",
        "  for i in range(size):\n",
        "    for j in range(size):\n",
        "      for k in range(size):\n",
        "        result[i][j]+=A[i][k]*B[k][j]\n",
        "  return result\n",
        "def matrix_mul_numpy(A,B):\n",
        "  return np.dot(A,B)\n",
        "#Generate two 1000X1000 sized matrices with random integers from 0 to 10\n",
        "size=1000\n",
        "A_list=[[random.randint(0,10)for _ in range(size)] for _ in range(size)]\n",
        "B_list=[[random.randint(0,10)for _ in range(size)] for _ in range(size)]\n",
        "A_np=np.random.randint(0,11,size=(size,size))\n",
        "B_np=np.random.randint(0,11,size=(size,size))\n",
        "#Time the execution of each funcion\n",
        "python_time=timeit(\"matrix_mul_python(A_list,B_list)\",globals=globals(),number=1)\n",
        "numpy_time=timeit(\"matrix_mul_numpy(A_np,B_np)\",globals=globals(),number=1)\n",
        "#Print results\n",
        "print(f\"Pure Python matrix multiplication :{python_time:.6f}seconds per loop\")\n",
        "print(f\"NumPy matrix multiplication:{numpy_time:.6f}seconds per loop\")"
      ],
      "metadata": {
        "id": "h2rVskJKMKSC",
        "colab": {
          "base_uri": "https://localhost:8080/"
        },
        "outputId": "0a0f3026-0148-43fc-920d-7405c1769fa7"
      },
      "execution_count": null,
      "outputs": [
        {
          "output_type": "stream",
          "name": "stdout",
          "text": [
            "Pure Python matrix multiplication :240.329084seconds per loop\n",
            "NumPy matrix multiplication:2.063000seconds per loop\n"
          ]
        }
      ]
    }
  ]
}